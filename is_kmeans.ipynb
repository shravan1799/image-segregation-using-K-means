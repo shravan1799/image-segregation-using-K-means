{
  "nbformat": 4,
  "nbformat_minor": 0,
  "metadata": {
    "colab": {
      "name": "is_kmeans.ipynb",
      "provenance": [],
      "collapsed_sections": [],
      "mount_file_id": "1N0rimwJzRVy_9rf9-orbTjQBR9gc04YQ",
      "authorship_tag": "ABX9TyMoVA9RjHZl/PDYrZl2BdVR",
      "include_colab_link": true
    },
    "kernelspec": {
      "name": "python3",
      "display_name": "Python 3"
    },
    "accelerator": "GPU"
  },
  "cells": [
    {
      "cell_type": "markdown",
      "metadata": {
        "id": "view-in-github",
        "colab_type": "text"
      },
      "source": [
        "<a href=\"https://colab.research.google.com/github/shravan1799/image-seperation-using-K-means/blob/main/is_kmeans.ipynb\" target=\"_parent\"><img src=\"https://colab.research.google.com/assets/colab-badge.svg\" alt=\"Open In Colab\"/></a>"
      ]
    },
    {
      "cell_type": "code",
      "metadata": {
        "id": "GNTLpwAaFbH0"
      },
      "source": [
        "import tensorflow as tf \n",
        "import numpy as np\n",
        "import matplotlib.pyplot as plt\n",
        "from sklearn.cluster import KMeans\n",
        "from sklearn.metrics import silhouette_score\n",
        "import cv2\n",
        "import os, glob, shutil"
      ],
      "execution_count": 2,
      "outputs": []
    },
    {
      "cell_type": "code",
      "metadata": {
        "id": "3X7MOo3oGy_T"
      },
      "source": [
        "inputdir = 'drive/My Drive/sampledata'\n",
        "globdir = inputdir + '/*.png'"
      ],
      "execution_count": 4,
      "outputs": []
    },
    {
      "cell_type": "code",
      "metadata": {
        "id": "0dQVAtnZJm_0"
      },
      "source": [
        "images = [cv2.resize(cv2.imread(file), (224, 224)) for file in glob.glob(globdir)]\n",
        "paths = [file for file in glob.glob(globdir)]\n",
        "images = np.array(np.float32(images).reshape(len(images), -1)/255)"
      ],
      "execution_count": 5,
      "outputs": []
    },
    {
      "cell_type": "code",
      "metadata": {
        "id": "juLcOIR8J86K",
        "outputId": "f54bca66-b4e7-487f-8c4c-8ddb99306ae5",
        "colab": {
          "base_uri": "https://localhost:8080/",
          "height": 73
        }
      },
      "source": [
        "model = tf.keras.applications.MobileNetV2(include_top=False, weights='imagenet', input_shape=(224, 224, 3)) #you can also use other transfer learning algorithms like inception, resnet according to your choice\n",
        "predictions = model.predict(images.reshape(-1, 224, 224, 3))\n",
        "pred_images = predictions.reshape(images.shape[0], -1)"
      ],
      "execution_count": 6,
      "outputs": [
        {
          "output_type": "stream",
          "text": [
            "Downloading data from https://storage.googleapis.com/tensorflow/keras-applications/mobilenet_v2/mobilenet_v2_weights_tf_dim_ordering_tf_kernels_1.0_224_no_top.h5\n",
            "9412608/9406464 [==============================] - 0s 0us/step\n"
          ],
          "name": "stdout"
        }
      ]
    },
    {
      "cell_type": "code",
      "metadata": {
        "id": "eqw2OrvAKEBb"
      },
      "source": [
        "sil = []\n",
        "kl = []\n",
        "kmax = 10\n",
        "\n",
        "for k in range(2, kmax+1):\n",
        "  kmeans2 = KMeans(n_clusters = k).fit(pred_images)\n",
        "  labels = kmeans2.labels_\n",
        "  sil.append(silhouette_score(pred_images, labels, metric = 'euclidean'))\n",
        "  kl.append(k)"
      ],
      "execution_count": 7,
      "outputs": []
    },
    {
      "cell_type": "code",
      "metadata": {
        "id": "GDvpO8oIKQJR",
        "outputId": "b4b3c4ec-7677-4a26-a66c-15e6da7841a5",
        "colab": {
          "base_uri": "https://localhost:8080/",
          "height": 265
        }
      },
      "source": [
        "plt.plot(kl, sil)\n",
        "plt.ylabel('Silhoutte Score')  #one can also use elbow method\n",
        "plt.ylabel('K')\n",
        "plt.show()"
      ],
      "execution_count": 8,
      "outputs": [
        {
          "output_type": "display_data",
          "data": {
            "image/png": "[encoded data removed]",
            "text/plain": [
              "<Figure size 432x288 with 1 Axes>"
            ]
          },
          "metadata": {
            "tags": [],
            "needs_background": "light"
          }
        }
      ]
    },
    {
      "cell_type": "code",
      "metadata": {
        "id": "tplDe1nmKSqp"
      },
      "source": [
        "k = 3\n",
        "kmodel = KMeans(n_clusters=k, n_jobs=-1, random_state=728)\n",
        "kmodel.fit(pred_images)\n",
        "kpredictions = kmodel.predict(pred_images)\n",
        "os.mkdir('/output')\n",
        "shutil.rmtree('/output')\n",
        "for i in range(k):\n",
        "\tos.makedirs(\"/output/cluster\" + str(i))\n",
        "for i in range(len(paths)):\n",
        "\tshutil.copy2(paths[i], \"/output/cluster\"+str(kpredictions[i]))"
      ],
      "execution_count": 23,
      "outputs": []
    },
    {
      "cell_type": "code",
      "metadata": {
        "id": "kbgY4XcKM2np"
      },
      "source": [
        ""
      ],
      "execution_count": null,
      "outputs": []
    }
  ]
}